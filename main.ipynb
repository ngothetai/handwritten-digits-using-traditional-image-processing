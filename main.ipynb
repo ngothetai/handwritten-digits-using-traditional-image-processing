{
 "cells": [
  {
   "cell_type": "code",
   "execution_count": 1,
   "metadata": {},
   "outputs": [
    {
     "name": "stdout",
     "output_type": "stream",
     "text": [
      "Kích thước tập huấn luyện: (60000, 28, 28)\n",
      "Kích thước nhãn huấn luyện: (60000,)\n",
      "Kích thước tập kiểm tra: (10000, 28, 28)\n",
      "Kích thước nhãn kiểm tra: (10000,)\n"
     ]
    }
   ],
   "source": [
    "import gzip\n",
    "import numpy as np\n",
    "\n",
    "def load_mnist_images(filename):\n",
    "    with gzip.open(filename, 'rb') as f:\n",
    "        data = np.frombuffer(f.read(), np.uint8, offset=16)\n",
    "    data = data.reshape(-1, 28, 28)  # Reshape thành ma trận 3D (số lượng ảnh, chiều cao, chiều rộng)\n",
    "    return data\n",
    "\n",
    "def load_mnist_labels(filename):\n",
    "    with gzip.open(filename, 'rb') as f:\n",
    "        data = np.frombuffer(f.read(), np.uint8, offset=8)\n",
    "    return data\n",
    "\n",
    "# Đường dẫn đến các tập tin đã tải về\n",
    "train_images_path = 'data/train-images-idx3-ubyte.gz'\n",
    "train_labels_path = 'data/train-labels-idx1-ubyte.gz'\n",
    "test_images_path = 'data/t10k-images-idx3-ubyte.gz'\n",
    "test_labels_path = 'data/t10k-labels-idx1-ubyte.gz'\n",
    "\n",
    "# Đọc dữ liệu từ các tập tin\n",
    "x_train = load_mnist_images(train_images_path)\n",
    "y_train = load_mnist_labels(train_labels_path)\n",
    "x_test = load_mnist_images(test_images_path)\n",
    "y_test = load_mnist_labels(test_labels_path)\n",
    "\n",
    "# Hiển thị thông tin về dữ liệu\n",
    "print(\"Kích thước tập huấn luyện:\", x_train.shape)\n",
    "print(\"Kích thước nhãn huấn luyện:\", y_train.shape)\n",
    "print(\"Kích thước tập kiểm tra:\", x_test.shape)\n",
    "print(\"Kích thước nhãn kiểm tra:\", y_test.shape)\n"
   ]
  }
 ],
 "metadata": {
  "kernelspec": {
   "display_name": "DS",
   "language": "python",
   "name": "python3"
  },
  "language_info": {
   "codemirror_mode": {
    "name": "ipython",
    "version": 3
   },
   "file_extension": ".py",
   "mimetype": "text/x-python",
   "name": "python",
   "nbconvert_exporter": "python",
   "pygments_lexer": "ipython3",
   "version": "3.8.16"
  },
  "orig_nbformat": 4
 },
 "nbformat": 4,
 "nbformat_minor": 2
}
